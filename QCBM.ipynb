{
 "cells": [
  {
   "cell_type": "code",
   "execution_count": 16,
   "id": "aa70f96e",
   "metadata": {
    "scrolled": false
   },
   "outputs": [],
   "source": [
    "import numpy as np\n",
    "from qiskit import QuantumCircuit\n",
    "from qiskit.circuit import QuantumRegister,ClassicalRegister\n",
    "import matplotlib.pyplot as plt\n",
    "from qiskit.circuit.library import EfficientSU2,RealAmplitudes\n",
    "\n",
    "\n",
    "\n",
    "from qiskit_ibm_runtime import QiskitRuntimeService\n",
    "from qiskit_aer import AerSimulator\n",
    "from qiskit.circuit import QuantumCircuit\n",
    "from qiskit.transpiler.preset_passmanagers import generate_preset_pass_manager\n",
    "from qiskit_ibm_runtime import Session, SamplerV2 as Sampler\n",
    "from qiskit_ibm_runtime import QiskitRuntimeService, EstimatorV2 as Estimator\n",
    "from itertools import product\n",
    "from scipy.optimize import minimize"
   ]
  },
  {
   "cell_type": "code",
   "execution_count": 135,
   "id": "5bc56a1f",
   "metadata": {},
   "outputs": [
    {
     "name": "stdout",
     "output_type": "stream",
     "text": [
      "nShots =  100000\n"
     ]
    }
   ],
   "source": [
    "n_qubits = 2\n",
    "n_reps = 5\n",
    "#nShots = 2**16\n",
    "nShots = int(1e5)\n",
    "print(\"nShots = \", nShots)\n",
    "\n",
    "target_probs = np.random.rand(2**n_qubits)  # Example\n",
    "target_probs = target_probs/target_probs.sum()\n",
    "bitstrings = [''.join(bits) for bits in product('01', repeat=n_qubits)]\n",
    "target_dict = dict(zip(bitstrings, target_probs))\n"
   ]
  },
  {
   "cell_type": "code",
   "execution_count": 142,
   "id": "85006e42",
   "metadata": {},
   "outputs": [],
   "source": [
    "\n",
    "class QCBM:\n",
    "    def __init__(self,n_qubits, n_reps,  target_dict,shots=2**15, seed=None):\n",
    "        self.n_qubits = n_qubits\n",
    "        self.n_reps = n_reps\n",
    "        self.shots = shots\n",
    "        self.seed = seed\n",
    "\n",
    "        # Build quantum circuit\n",
    "        self.qc = QuantumCircuit(n_qubits)\n",
    "        self.ansatz = RealAmplitudes(num_qubits=n_qubits, reps=n_reps, parameter_prefix='w')\n",
    "        self.parameters = list(self.ansatz.parameters)\n",
    "        self.qc.compose(self.ansatz, inplace=True)\n",
    "        self.qc.measure_all()\n",
    "\n",
    "        # Backend and tools\n",
    "        self.backend = AerSimulator(seed_simulator=seed)\n",
    "        self.pm_sim = generate_preset_pass_manager(backend=self.backend, optimization_level=3)\n",
    "        self.sampler = Sampler(mode = self.backend)\n",
    "        \n",
    "        # Precompute bitstrings and target vector q\n",
    "        self.bitstrings = sorted(set(target_dict.keys()))\n",
    "        self.X = np.array([self.bitstring_to_array(bs) for bs in self.bitstrings])\n",
    "        self.q = np.array([target_dict[bs] if bs in target_dict else 0 for bs in self.bitstrings])\n",
    "        \n",
    "        self.theta = self.random_theta()\n",
    "        # History for loss tracking\n",
    "        self.loss_history = []\n",
    "\n",
    "    def sample(self, theta):\n",
    "\n",
    "        # Transpile circuit\n",
    "        transpiled_qc = self.pm_sim.run(self.qc)\n",
    "        # Run sampler\n",
    "   \n",
    "        job = self.sampler.run([(transpiled_qc, theta)], shots=self.shots)\n",
    "        result = job.result()[0].data.meas.get_counts()\n",
    "        # Normalize counts to probabilities\n",
    "        probs = {k: v / self.shots for k, v in result.items()}\n",
    "        return probs\n",
    "    \n",
    "    def loss(self, theta, scales = np.array([0.01, 0.1, 1, 10, 100])):\n",
    "\n",
    "        result = self.sample(theta)\n",
    "       \n",
    "        p = np.array([result[bs] if bs in result else 0 for bs in self.bitstrings])\n",
    "        return self.getMMD2(p, self.q, self.X, scales = scales)\n",
    "\n",
    "    @staticmethod\n",
    "    def bitstring_to_array(bs): # Converting bitstring to vector arrays for kernel evaluation\n",
    "        return np.array([int(b) for b in bs])\n",
    "\n",
    "    @staticmethod\n",
    "    def getMMD2(p, q, X, scales = np.array([0.01, 0.1, 1, 10, 100])):\n",
    "        sq_dists = np.linalg.norm(X[:, None] - X[None, :], axis=-1) ** 2\n",
    "        gamma = 1 / (2 * scales ** 2)\n",
    "        K = np.exp(-gamma[:,None,None] * sq_dists).sum(axis = 0)/len(scales)\n",
    "        return (p - q) @ K @ (p - q)\n",
    "\n",
    "    def random_theta(self):\n",
    "        return np.random.uniform(0, 2 * np.pi, len(self.parameters))\n",
    "    \n",
    "    def train(self, maxiter=200):\n",
    "        theta0 = self.random_theta()\n",
    "\n",
    "        def callback(theta):\n",
    "            current_loss = self.loss(theta)\n",
    "            self.loss_history.append(current_loss)\n",
    "\n",
    "        res = minimize(self.loss, theta0, method='COBYLA', callback=callback, options={'maxiter': maxiter})\n",
    "        return res.x\n"
   ]
  },
  {
   "cell_type": "code",
   "execution_count": 143,
   "id": "e5374321",
   "metadata": {
    "scrolled": false
   },
   "outputs": [
    {
     "data": {
      "text/plain": [
       "{'10': 0.33505, '11': 0.06533, '00': 0.59134, '01': 0.00828}"
      ]
     },
     "execution_count": 143,
     "metadata": {},
     "output_type": "execute_result"
    }
   ],
   "source": [
    "qcbm = QCBM(n_qubits,5,target_dict,shots = nShots)\n",
    "#theta = qcbm.random_theta()\n",
    "qcbm.sample(qcbm.theta)\n"
   ]
  },
  {
   "cell_type": "code",
   "execution_count": 144,
   "id": "08136497",
   "metadata": {
    "scrolled": true
   },
   "outputs": [
    {
     "data": {
      "text/plain": [
       "np.float64(0.2828561891110696)"
      ]
     },
     "execution_count": 144,
     "metadata": {},
     "output_type": "execute_result"
    }
   ],
   "source": [
    "qcbm.loss(qcbm.theta)"
   ]
  },
  {
   "cell_type": "code",
   "execution_count": 145,
   "id": "5f1a76fa",
   "metadata": {
    "scrolled": false
   },
   "outputs": [],
   "source": [
    "qcbm.theta = qcbm.train()"
   ]
  },
  {
   "cell_type": "code",
   "execution_count": 146,
   "id": "5c699b93",
   "metadata": {},
   "outputs": [
    {
     "data": {
      "text/plain": [
       "Text(0.5, 1.0, '2 qubits random state')"
      ]
     },
     "execution_count": 146,
     "metadata": {},
     "output_type": "execute_result"
    },
    {
     "data": {
      "image/png": "[encoded data removed]",
      "text/plain": [
       "<Figure size 640x480 with 1 Axes>"
      ]
     },
     "metadata": {},
     "output_type": "display_data"
    }
   ],
   "source": [
    "plt.plot(qcbm.loss_history)\n",
    "plt.xlabel('Iterations')\n",
    "plt.ylabel(\"MMD2\")\n",
    "plt.title(f\"{n_qubits} qubits random state\")\n",
    "#plt.yscale('log')"
   ]
  },
  {
   "cell_type": "code",
   "execution_count": 147,
   "id": "575caf15",
   "metadata": {},
   "outputs": [],
   "source": [
    "def compareDist(qcbm,target_dict):\n",
    "    d_qcbm = qcbm.sample(qcbm.theta)\n",
    "    h_qcbm = []\n",
    "    h_target = []\n",
    "    \n",
    "    for key in target_dict.keys():\n",
    "        h_target.append(target_dict[key])\n",
    "        if key in d_qcbm.keys():\n",
    "            h_qcbm.append(d_qcbm[key])\n",
    "        else:\n",
    "            h_qcbm.append(0)\n",
    "    plt.bar(range(len(target_dict.keys())),h_target,label = 'Target')\n",
    "    plt.bar(range(len(target_dict.keys())),h_qcbm,alpha = 0.5,label = 'QCBM')\n",
    "    plt.legend()\n",
    "        \n",
    "        \n",
    "        "
   ]
  },
  {
   "cell_type": "code",
   "execution_count": 148,
   "id": "f2643f69",
   "metadata": {},
   "outputs": [
    {
     "data": {
      "text/plain": [
       "Text(0, 0.5, 'Probability')"
      ]
     },
     "execution_count": 148,
     "metadata": {},
     "output_type": "execute_result"
    },
    {
     "data": {
      "image/png": "[encoded data removed]",
      "text/plain": [
       "<Figure size 640x480 with 1 Axes>"
      ]
     },
     "metadata": {},
     "output_type": "display_data"
    }
   ],
   "source": [
    "compareDist(qcbm,target_dict)\n",
    "plt.xlabel(\"bistring index\")\n",
    "plt.ylabel(\"Probability\")"
   ]
  },
  {
   "cell_type": "code",
   "execution_count": null,
   "id": "80535e16",
   "metadata": {},
   "outputs": [],
   "source": []
  },
  {
   "cell_type": "code",
   "execution_count": null,
   "id": "0bfd66f9",
   "metadata": {},
   "outputs": [],
   "source": []
  },
  {
   "cell_type": "code",
   "execution_count": null,
   "id": "89f3111e",
   "metadata": {},
   "outputs": [],
   "source": []
  },
  {
   "cell_type": "code",
   "execution_count": null,
   "id": "5dddafbd",
   "metadata": {},
   "outputs": [],
   "source": []
  },
  {
   "cell_type": "code",
   "execution_count": null,
   "id": "c9e61d7a",
   "metadata": {},
   "outputs": [],
   "source": []
  }
 ],
 "metadata": {
  "kernelspec": {
   "display_name": "Python (Qiskit 2.0)",
   "language": "python",
   "name": "qiskit2"
  },
  "language_info": {
   "codemirror_mode": {
    "name": "ipython",
    "version": 3
   },
   "file_extension": ".py",
   "mimetype": "text/x-python",
   "name": "python",
   "nbconvert_exporter": "python",
   "pygments_lexer": "ipython3",
   "version": "3.11.12"
  }
 },
 "nbformat": 4,
 "nbformat_minor": 5
}
