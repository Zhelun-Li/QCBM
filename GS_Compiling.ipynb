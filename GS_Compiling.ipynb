{
 "cells": [
  {
   "cell_type": "code",
   "execution_count": 11,
   "id": "f6cf751c",
   "metadata": {},
   "outputs": [],
   "source": [
    "import numpy as np\n",
    "from qiskit import QuantumCircuit\n",
    "from qiskit.circuit import QuantumRegister,ClassicalRegister\n",
    "import matplotlib.pyplot as plt\n",
    "from qiskit.circuit.library import EfficientSU2,RealAmplitudes\n",
    "\n",
    "from qiskit.quantum_info import SparsePauliOp\n",
    "from qiskit_ibm_runtime import QiskitRuntimeService\n",
    "from qiskit_aer import AerSimulator\n",
    "from qiskit.circuit import QuantumCircuit\n",
    "from qiskit.transpiler.preset_passmanagers import generate_preset_pass_manager\n",
    "from qiskit_ibm_runtime import Session, SamplerV2 as Sampler\n",
    "from qiskit_ibm_runtime import QiskitRuntimeService, EstimatorV2 as Estimator\n",
    "from itertools import product\n",
    "from scipy.optimize import minimize"
   ]
  },
  {
   "cell_type": "code",
   "execution_count": 7,
   "id": "3534f4ee",
   "metadata": {},
   "outputs": [
    {
     "name": "stdout",
     "output_type": "stream",
     "text": [
      "nShots =  100000\n"
     ]
    }
   ],
   "source": [
    "noise = False \n",
    "n_qubits = 4\n",
    "n_reps = 5\n",
    "#nShots = 2**16\n",
    "nShots = int(1e5)\n",
    "print(\"nShots = \", nShots)\n",
    "\n",
    "qc = QuantumCircuit(n_qubits)\n",
    "ansatz = RealAmplitudes(num_qubits=n_qubits, reps=n_reps, parameter_prefix='w')\n",
    "parameters = list(ansatz.parameters)\n",
    "qc.compose(ansatz, inplace=True)\n"
   ]
  },
  {
   "cell_type": "code",
   "execution_count": 8,
   "id": "048012d5",
   "metadata": {},
   "outputs": [
    {
     "data": {
      "image/png": "[encoded data removed]",
      "text/plain": [
       "<Figure size 956.385x367.889 with 1 Axes>"
      ]
     },
     "execution_count": 8,
     "metadata": {},
     "output_type": "execute_result"
    }
   ],
   "source": [
    "qc.draw('mpl')"
   ]
  },
  {
   "cell_type": "code",
   "execution_count": 24,
   "id": "fe71a78d",
   "metadata": {},
   "outputs": [],
   "source": [
    "\n",
    "\n",
    "aer = AerSimulator()\n",
    "\n",
    "if noise:\n",
    "    service = QiskitRuntimeService()\n",
    "    real_backend = service.backend(\"ibm_kawasaki\")\n",
    "    aer = AerSimulator.from_backend(real_backend)\n",
    "    estimator = Estimator(mode=aer)\n",
    "    sampler = Sampler(mode = aer)\n",
    "    pm = generate_preset_pass_manager(backend=aer, optimization_level=3)\n",
    "    \n",
    "else:\n",
    "    \n",
    "    estimator = Estimator( mode = aer)\n",
    "    sampler = Sampler( mode = aer)\n",
    "    \n",
    "    pm = generate_preset_pass_manager(backend=aer, optimization_level=3)\n",
    "    \n",
    "isa_qc = pm.run(qc)"
   ]
  },
  {
   "cell_type": "code",
   "execution_count": 25,
   "id": "6cd492a4",
   "metadata": {},
   "outputs": [],
   "source": [
    "\n",
    "\n",
    "ob_list = []\n",
    "for i in range(1,n_qubits,1):\n",
    "    ob = SparsePauliOp.from_list([(\"I\"*(i ) + \"Z\" + \"I\"* ( n_qubits - i-1), 1)])\n",
    "    ob = ob.apply_layout(layout=isa_qc.layout)\n",
    "    ob_list.append(ob)\n",
    "    \n",
    "    ob = SparsePauliOp.from_list([(\"I\"*(i ) + \"X\" + \"I\"* ( n_qubits - i-1), 1)])\n",
    "    ob = ob.apply_layout(layout=isa_qc.layout)\n",
    "    ob_list.append(ob)\n",
    "hamiltonian = sum(ob_list[1:], ob_list[0]) \n"
   ]
  },
  {
   "cell_type": "code",
   "execution_count": 29,
   "id": "c70ff3d9",
   "metadata": {},
   "outputs": [],
   "source": [
    "w = np.random.rand(len(qc.parameters))*2*np.pi"
   ]
  },
  {
   "cell_type": "code",
   "execution_count": 32,
   "id": "01e2e5c9",
   "metadata": {},
   "outputs": [],
   "source": [
    "def loss(w):\n",
    "    result = estimator.run([(isa_qc,hamiltonian,w)],precision = 0.005) # precision = 1 to sample only one time.\n",
    "    evs = result.result()[0].data.evs\n",
    "    return evs"
   ]
  },
  {
   "cell_type": "code",
   "execution_count": 33,
   "id": "868ccbf6",
   "metadata": {},
   "outputs": [
    {
     "data": {
      "text/plain": [
       "array(-0.25435)"
      ]
     },
     "execution_count": 33,
     "metadata": {},
     "output_type": "execute_result"
    }
   ],
   "source": [
    "loss(w)"
   ]
  },
  {
   "cell_type": "code",
   "execution_count": 34,
   "id": "76233de1",
   "metadata": {},
   "outputs": [],
   "source": [
    "def train(maxiter=200):\n",
    "    \n",
    "    loss_history = []\n",
    "    w = np.random.rand(len(qc.parameters))*2*np.pi\n",
    "\n",
    "    def callback(theta):\n",
    "        current_loss = loss(w)\n",
    "        loss_history.append(current_loss)\n",
    "\n",
    "    res = minimize(loss, w, method='COBYLA', callback=callback, options={'maxiter': maxiter})\n",
    "    return res.x"
   ]
  },
  {
   "cell_type": "code",
   "execution_count": 52,
   "id": "ea5dd1d2",
   "metadata": {},
   "outputs": [],
   "source": [
    "class VQE():\n",
    "    \n",
    "    def __init__(self,n_qubits = 4, n_reps = 5,shots=2**15,seed=None,noise = None,w = None):\n",
    "        self.n_qubits = n_qubits\n",
    "        self.n_reps = n_reps\n",
    "        self.shots = shots\n",
    "        self.seed = seed\n",
    "        self.noise = noise\n",
    "        self.H = None\n",
    "        self.loss_history = []\n",
    "        \n",
    "        \n",
    "        self.qc = QuantumCircuit(n_qubits)\n",
    "        ansatz = RealAmplitudes(num_qubits=n_qubits, reps=n_reps, parameter_prefix='w')\n",
    "        parameters = list(ansatz.parameters)\n",
    "        self.qc.compose(ansatz, inplace=True)\n",
    "        self.isa_qc = None\n",
    "        if w!= None:\n",
    "            self.w = w\n",
    "        else:\n",
    "            self.w = np.random.rand(len(self.qc.parameters))*2*np.pi\n",
    "        \n",
    "    def transpile(self):\n",
    "\n",
    "        aer = AerSimulator()\n",
    "\n",
    "        if self.noise:\n",
    "            service = QiskitRuntimeService()\n",
    "            real_backend = service.backend(\"ibm_kawasaki\")\n",
    "            aer = AerSimulator.from_backend(real_backend)\n",
    "            estimator = Estimator(mode=aer)\n",
    "            sampler = Sampler(mode = aer)\n",
    "            pm = generate_preset_pass_manager(backend=aer, optimization_level=3)\n",
    "\n",
    "        else:\n",
    "            estimator = Estimator( mode = aer)\n",
    "            sampler = Sampler( mode = aer)\n",
    "            pm = generate_preset_pass_manager(backend=aer, optimization_level=3)\n",
    "\n",
    "            self.isa_qc = pm.run(self.qc) \n",
    "            \n",
    "    def getH(self):\n",
    "        ob_list = []\n",
    "        for i in range(1,n_qubits,1):\n",
    "            ob = SparsePauliOp.from_list([(\"I\"*(i ) + \"Z\" + \"I\"* ( n_qubits - i-1), 1)])\n",
    "            ob = ob.apply_layout(layout=isa_qc.layout)\n",
    "            ob_list.append(ob)\n",
    "\n",
    "            ob = SparsePauliOp.from_list([(\"I\"*(i ) + \"X\" + \"I\"* ( n_qubits - i-1), 1)])\n",
    "            ob = ob.apply_layout(layout=isa_qc.layout)\n",
    "            ob_list.append(ob)\n",
    "        hamiltonian = sum(ob_list[1:], ob_list[0]) \n",
    "        self.H = hamiltonian\n",
    "\n",
    "        \n",
    "    def loss(self,w):\n",
    "        \n",
    "        result = estimator.run([(self.isa_qc,self.H,w)],precision = 0.005) # precision = 1 to sample only one time.\n",
    "        evs = result.result()[0].data.evs\n",
    "        return evs\n",
    "    \n",
    "    def train(self, maxiter=100):\n",
    "        w = self.w\n",
    "\n",
    "        def callback(w):\n",
    "            current_loss = self.loss(w)\n",
    "            self.loss_history.append(current_loss)\n",
    "\n",
    "        res = minimize(self.loss, w, method='COBYLA', callback=callback, options={'maxiter': maxiter})\n",
    "        self.w = res.x\n",
    "        return res.x\n",
    "\n"
   ]
  },
  {
   "cell_type": "code",
   "execution_count": 53,
   "id": "e3f35d91",
   "metadata": {},
   "outputs": [],
   "source": [
    "vqe = VQE()"
   ]
  },
  {
   "cell_type": "code",
   "execution_count": 54,
   "id": "84785c66",
   "metadata": {},
   "outputs": [],
   "source": [
    "vqe.transpile()"
   ]
  },
  {
   "cell_type": "code",
   "execution_count": 55,
   "id": "f7a11e73",
   "metadata": {},
   "outputs": [],
   "source": [
    "vqe.getH()"
   ]
  },
  {
   "cell_type": "code",
   "execution_count": 56,
   "id": "561afe0f",
   "metadata": {},
   "outputs": [
    {
     "data": {
      "text/plain": [
       "array(-0.1408)"
      ]
     },
     "execution_count": 56,
     "metadata": {},
     "output_type": "execute_result"
    }
   ],
   "source": [
    "vqe.loss(vqe.w)"
   ]
  },
  {
   "cell_type": "code",
   "execution_count": 57,
   "id": "9304738a",
   "metadata": {},
   "outputs": [
    {
     "data": {
      "text/plain": [
       "array([2.55245281, 4.45425567, 3.0535045 , 3.89646802, 6.18162833,\n",
       "       2.87164431, 5.21225363, 1.65629534, 0.95897492, 2.91238712,\n",
       "       1.83518984, 6.31496689, 2.47891247, 5.94782862, 3.03606927,\n",
       "       5.02172832, 2.85797207, 2.42502942, 2.16084745, 1.22388631,\n",
       "       1.06111434, 3.5226352 , 3.50289552, 6.86057381])"
      ]
     },
     "execution_count": 57,
     "metadata": {},
     "output_type": "execute_result"
    }
   ],
   "source": [
    "vqe.train()"
   ]
  },
  {
   "cell_type": "code",
   "execution_count": 59,
   "id": "ee157534",
   "metadata": {},
   "outputs": [
    {
     "data": {
      "text/plain": [
       "Text(0.5, 1.0, 'VQE COBYLA')"
      ]
     },
     "execution_count": 59,
     "metadata": {},
     "output_type": "execute_result"
    },
    {
     "data": {
      "image/png": "[encoded data removed]",
      "text/plain": [
       "<Figure size 640x480 with 1 Axes>"
      ]
     },
     "metadata": {},
     "output_type": "display_data"
    }
   ],
   "source": [
    "plt.plot(vqe.loss_history,label = \"VQE\")\n",
    "plt.xlabel('Iteration')\n",
    "plt.ylabel('Energy')\n",
    "plt.title('VQE COBYLA')"
   ]
  },
  {
   "cell_type": "code",
   "execution_count": null,
   "id": "277996f8",
   "metadata": {},
   "outputs": [],
   "source": []
  }
 ],
 "metadata": {
  "kernelspec": {
   "display_name": "Python (Qiskit 2.0)",
   "language": "python",
   "name": "qiskit2"
  },
  "language_info": {
   "codemirror_mode": {
    "name": "ipython",
    "version": 3
   },
   "file_extension": ".py",
   "mimetype": "text/x-python",
   "name": "python",
   "nbconvert_exporter": "python",
   "pygments_lexer": "ipython3",
   "version": "3.11.12"
  }
 },
 "nbformat": 4,
 "nbformat_minor": 5
}
