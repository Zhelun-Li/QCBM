{
 "cells": [
  {
   "cell_type": "code",
   "execution_count": 4,
   "id": "f6cf751c",
   "metadata": {},
   "outputs": [],
   "source": [
    "import numpy as np\n",
    "from qiskit import QuantumCircuit\n",
    "from qiskit.circuit import QuantumRegister,ClassicalRegister\n",
    "import matplotlib.pyplot as plt\n",
    "from qiskit.circuit.library import EfficientSU2,RealAmplitudes\n",
    "\n",
    "from qiskit.quantum_info import SparsePauliOp\n",
    "from qiskit_ibm_runtime import QiskitRuntimeService\n",
    "from qiskit_aer import AerSimulator\n",
    "from qiskit.circuit import QuantumCircuit\n",
    "from qiskit.transpiler.preset_passmanagers import generate_preset_pass_manager\n",
    "from qiskit_ibm_runtime import Session, SamplerV2 as Sampler\n",
    "from qiskit_ibm_runtime import QiskitRuntimeService, EstimatorV2 as Estimator\n",
    "from itertools import product\n",
    "from scipy.optimize import minimize"
   ]
  },
  {
   "cell_type": "code",
   "execution_count": 5,
   "id": "01d85776",
   "metadata": {},
   "outputs": [
    {
     "name": "stdout",
     "output_type": "stream",
     "text": [
      "nShots =  100000\n"
     ]
    }
   ],
   "source": [
    "noise = False \n",
    "n_qubits = 4\n",
    "n_reps = 5\n",
    "#nShots = 2**16\n",
    "nShots = int(1e5)\n",
    "print(\"nShots = \", nShots)\n"
   ]
  },
  {
   "cell_type": "code",
   "execution_count": 12,
   "id": "aae83023",
   "metadata": {},
   "outputs": [],
   "source": [
    "class VQE():\n",
    "    \n",
    "    def __init__(self,n_qubits = 4, n_reps = 5,shots=2**15,seed=None,noise = None,w = None):\n",
    "        self.n_qubits = n_qubits\n",
    "        self.n_reps = n_reps\n",
    "        self.shots = shots\n",
    "        self.seed = seed\n",
    "        self.noise = noise\n",
    "        self.H = None\n",
    "        self.loss_history = []\n",
    "        self.sampler = None\n",
    "        self.estimator = None\n",
    "        \n",
    "        \n",
    "        self.qc = QuantumCircuit(n_qubits)\n",
    "        ansatz = RealAmplitudes(num_qubits=n_qubits, reps=n_reps, parameter_prefix='w')\n",
    "        parameters = list(ansatz.parameters)\n",
    "        self.qc.compose(ansatz, inplace=True)\n",
    "        self.isa_qc = None\n",
    "        if w!= None:\n",
    "            self.w = w\n",
    "        else:\n",
    "            self.w = np.random.rand(len(self.qc.parameters))*2*np.pi\n",
    "        \n",
    "    def transpile(self):\n",
    "\n",
    "        aer = AerSimulator()\n",
    "\n",
    "        if self.noise:\n",
    "            service = QiskitRuntimeService()\n",
    "            real_backend = service.backend(\"ibm_kawasaki\")\n",
    "            aer = AerSimulator.from_backend(real_backend)\n",
    "            self.estimator = Estimator(mode=aer)\n",
    "            self.sampler = Sampler(mode = aer)\n",
    "            pm = generate_preset_pass_manager(backend=aer, optimization_level=3)\n",
    "\n",
    "        else:\n",
    "            self.estimator = Estimator( mode = aer)\n",
    "            self.sampler = Sampler( mode = aer)\n",
    "            pm = generate_preset_pass_manager(backend=aer, optimization_level=3)\n",
    "\n",
    "            self.isa_qc = pm.run(self.qc) \n",
    "            \n",
    "    def getH(self):\n",
    "        ob_list = []\n",
    "        for i in range(1,n_qubits,1):\n",
    "            ob = SparsePauliOp.from_list([(\"I\"*(i ) + \"Z\" + \"I\"* ( n_qubits - i-1), 1)])\n",
    "            ob = ob.apply_layout(layout=self.isa_qc.layout)\n",
    "            ob_list.append(ob)\n",
    "\n",
    "            ob = SparsePauliOp.from_list([(\"I\"*(i ) + \"X\" + \"I\"* ( n_qubits - i-1), 1)])\n",
    "            ob = ob.apply_layout(layout=self.isa_qc.layout)\n",
    "            ob_list.append(ob)\n",
    "        hamiltonian = sum(ob_list[1:], ob_list[0]) \n",
    "        self.H = hamiltonian\n",
    "\n",
    "        \n",
    "    def loss(self,w):\n",
    "        \n",
    "        result = self.estimator.run([(self.isa_qc,self.H,w)],precision = 0.005) # precision = 1 to sample only one time.\n",
    "        evs = result.result()[0].data.evs\n",
    "        return evs\n",
    "    \n",
    "    def train(self, maxiter=100):\n",
    "        w = self.w\n",
    "\n",
    "        def callback(w):\n",
    "            current_loss = self.loss(w)\n",
    "            self.loss_history.append(current_loss)\n",
    "\n",
    "        res = minimize(self.loss, w, method='COBYLA', callback=callback, options={'maxiter': maxiter})\n",
    "        self.w = res.x\n",
    "        return res.x\n",
    "\n"
   ]
  },
  {
   "cell_type": "code",
   "execution_count": null,
   "id": "8fd088b5",
   "metadata": {},
   "outputs": [],
   "source": [
    "vqe = VQE()\n",
    "vqe.transpile()\n",
    "vqe.getH()\n",
    "vqe.train()"
   ]
  },
  {
   "cell_type": "code",
   "execution_count": null,
   "id": "fe180705",
   "metadata": {},
   "outputs": [],
   "source": [
    "plt.plot(vqe.loss_history,label = \"VQE\")\n",
    "plt.xlabel('Iteration')\n",
    "plt.ylabel('Energy')\n",
    "plt.title('VQE COBYLA')"
   ]
  },
  {
   "cell_type": "code",
   "execution_count": null,
   "id": "cd08f245",
   "metadata": {},
   "outputs": [],
   "source": []
  },
  {
   "cell_type": "code",
   "execution_count": null,
   "id": "70789616",
   "metadata": {},
   "outputs": [],
   "source": []
  },
  {
   "cell_type": "code",
   "execution_count": null,
   "id": "eb881a13",
   "metadata": {},
   "outputs": [],
   "source": []
  },
  {
   "cell_type": "code",
   "execution_count": null,
   "id": "ea4c3ee3",
   "metadata": {},
   "outputs": [],
   "source": []
  }
 ],
 "metadata": {
  "kernelspec": {
   "display_name": "Python (Qiskit 2.0)",
   "language": "python",
   "name": "qiskit2"
  },
  "language_info": {
   "codemirror_mode": {
    "name": "ipython",
    "version": 3
   },
   "file_extension": ".py",
   "mimetype": "text/x-python",
   "name": "python",
   "nbconvert_exporter": "python",
   "pygments_lexer": "ipython3",
   "version": "3.11.12"
  }
 },
 "nbformat": 4,
 "nbformat_minor": 5
}
